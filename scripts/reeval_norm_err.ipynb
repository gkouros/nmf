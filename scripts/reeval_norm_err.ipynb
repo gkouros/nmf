{
 "cells": [
  {
   "cell_type": "code",
   "execution_count": 5,
   "metadata": {},
   "outputs": [
    {
     "name": "stdout",
     "output_type": "stream",
     "text": [
      "/home/dronelab/nmf\n"
     ]
    }
   ],
   "source": [
    "%matplotlib widget\n",
    "import imageio\n",
    "import numpy as np\n",
    "from pathlib import Path\n",
    "from omegaconf import OmegaConf\n",
    "import os\n",
    "from IPython.display import display, Image\n",
    "os.environ[\"OPENCV_IO_ENABLE_OPENEXR\"] = \"1\"\n",
    "import cv2 as cv\n",
    "import matplotlib.pyplot as plt\n",
    "from sklearn import linear_model\n",
    "import torch.nn.functional as F\n",
    "import torch\n",
    "import yaml\n",
    "\n",
    "import sys\n",
    "base_path = Path(os.path.abspath('')).parent\n",
    "print(base_path)\n",
    "sys.path.append(str(base_path))\n",
    "import torch\n",
    "from dataLoader import dataset_dict\n",
    "\n",
    "def disp_im(im):\n",
    "    plt.close()\n",
    "    plt.cla()\n",
    "    fig = plt.imshow(im)\n",
    "    plt.close()\n",
    "    display(fig.figure)"
   ]
  },
  {
   "cell_type": "code",
   "execution_count": 6,
   "metadata": {},
   "outputs": [],
   "source": [
    "\n",
    "def get_stats(p):\n",
    "    stats_files = ['stats_augnle.yaml', 'stats_augnl.yaml', 'stats_augn.yaml', 'stats_aug.yaml', 'stats.yaml']\n",
    "    stat_file = [s for s in stats_files if (p / \"imgs_test_all\" / s).exists()]\n",
    "    stat_file = stat_file[0] if len(stat_file) else None\n",
    "    if stat_file is None:\n",
    "        return None\n",
    "    data_path = p / \"imgs_test_all\" / stat_file\n",
    "    with data_path.open('r') as f:\n",
    "        data = yaml.safe_load(f)\n",
    "    return data"
   ]
  },
  {
   "cell_type": "code",
   "execution_count": 7,
   "metadata": {},
   "outputs": [
    {
     "name": "stdout",
     "output_type": "stream",
     "text": [
      "../log/fresnel_nointim/toaster_v1_fresnel_nointim\n",
      "Original Image size: 800 x 800\n",
      "Image size: 800 x 800\n"
     ]
    },
    {
     "name": "stderr",
     "output_type": "stream",
     "text": [
      "ic| self.fx: 1250.0000504168488, self.fy: 1250.0000504168488\n",
      "/home/dronelab/miniconda3/envs/31/lib/python3.10/site-packages/torch/functional.py:504: UserWarning: torch.meshgrid: in an upcoming release, it will be required to pass the indexing argument. (Triggered internally at ../aten/src/ATen/native/TensorShape.cpp:3190.)\n",
      "  return _VF.meshgrid(tensors, **kwargs)  # type: ignore[attr-defined]\n",
      "ic| self.intrinsics: tensor([[1.2500e+03, 0.0000e+00, 4.0000e+02],\n",
      "                             [0.0000e+00, 1.2500e+03, 4.0000e+02],\n",
      "                             [0.0000e+00, 0.0000e+00, 1.0000e+00]])\n",
      "Loading data test (200): 100%|██████████| 200/200 [00:04<00:00, 40.64it/s]\n",
      "/tmp/ipykernel_29054/1657540178.py:29: DeprecationWarning: Starting with ImageIO v3 the behavior of this function will switch to that of iio.v3.imread. To keep the current behavior (and make this warning disappear) use `import imageio.v2 as imageio` or call `imageio.v2.imread` directly.\n",
      "  pnorms = torch.as_tensor(imageio.imread(p / \"imgs_test_all\" / \"world_normal\" / f\"{idx:03d}.png\")).float()\n",
      "ic| self.fx: 1111.1110311937682, self.fy: 1111.1110311937682\n",
      "ic| self.intrinsics: tensor([[1.1111e+03, 0.0000e+00, 4.0000e+02],\n",
      "                             [0.0000e+00, 1.1111e+03, 4.0000e+02],\n",
      "                             [0.0000e+00, 0.0000e+00, 1.0000e+00]])\n"
     ]
    },
    {
     "name": "stdout",
     "output_type": "stream",
     "text": [
      "../log/fresnel_nointim/chair_v1_fresnel_nointim\n",
      "Original Image size: 800 x 800\n",
      "Image size: 800 x 800\n"
     ]
    },
    {
     "name": "stderr",
     "output_type": "stream",
     "text": [
      "Loading data test (200): 100%|██████████| 200/200 [00:04<00:00, 43.85it/s]\n",
      "ic| self.fx: 1111.1110311937682, self.fy: 1111.1110311937682\n",
      "ic| self.intrinsics: tensor([[1.1111e+03, 0.0000e+00, 4.0000e+02],\n",
      "                             [0.0000e+00, 1.1111e+03, 4.0000e+02],\n",
      "                             [0.0000e+00, 0.0000e+00, 1.0000e+00]])\n"
     ]
    },
    {
     "name": "stdout",
     "output_type": "stream",
     "text": [
      "../log/fresnel_nointim/ficus_v1_fresnel_nointim\n",
      "Original Image size: 800 x 800\n",
      "Image size: 800 x 800\n"
     ]
    },
    {
     "name": "stderr",
     "output_type": "stream",
     "text": [
      "Loading data test (200): 100%|██████████| 200/200 [00:04<00:00, 44.58it/s]\n",
      "ic| self.fx: 1111.1110311937682, self.fy: 1111.1110311937682\n",
      "ic| self.intrinsics: tensor([[1.1111e+03, 0.0000e+00, 4.0000e+02],\n",
      "                             [0.0000e+00, 1.1111e+03, 4.0000e+02],\n",
      "                             [0.0000e+00, 0.0000e+00, 1.0000e+00]])\n"
     ]
    },
    {
     "name": "stdout",
     "output_type": "stream",
     "text": [
      "../log/fresnel_nointim/ship_v1_fresnel_nointim\n",
      "Original Image size: 800 x 800\n",
      "Image size: 800 x 800\n"
     ]
    },
    {
     "name": "stderr",
     "output_type": "stream",
     "text": [
      "Loading data test (200): 100%|██████████| 200/200 [00:04<00:00, 45.87it/s]\n",
      "ic| self.fx: 1250.0000504168488, self.fy: 1250.0000504168488\n",
      "ic| self.intrinsics: tensor([[1.2500e+03, 0.0000e+00, 4.0000e+02],\n",
      "                             [0.0000e+00, 1.2500e+03, 4.0000e+02],\n",
      "                             [0.0000e+00, 0.0000e+00, 1.0000e+00]])\n"
     ]
    },
    {
     "name": "stdout",
     "output_type": "stream",
     "text": [
      "../log/fresnel_nointim/materials_v1_fresnel_nointim\n",
      "Original Image size: 800 x 800\n",
      "Image size: 800 x 800\n"
     ]
    },
    {
     "name": "stderr",
     "output_type": "stream",
     "text": [
      "Loading data test (200): 100%|██████████| 200/200 [00:04<00:00, 46.82it/s]\n",
      "ic| self.fx: 1250.0000504168488, self.fy: 1250.0000504168488\n",
      "ic| self.intrinsics: tensor([[1.2500e+03, 0.0000e+00, 4.0000e+02],\n",
      "                             [0.0000e+00, 1.2500e+03, 4.0000e+02],\n",
      "                             [0.0000e+00, 0.0000e+00, 1.0000e+00]])\n"
     ]
    },
    {
     "name": "stdout",
     "output_type": "stream",
     "text": [
      "../log/fresnel_nointim/ball_v1_fresnel_nointim\n",
      "Original Image size: 800 x 800\n",
      "Image size: 800 x 800\n"
     ]
    },
    {
     "name": "stderr",
     "output_type": "stream",
     "text": [
      "Loading data test (200): 100%|██████████| 200/200 [00:04<00:00, 46.38it/s]\n"
     ]
    },
    {
     "name": "stdout",
     "output_type": "stream",
     "text": [
      "../log/fresnel_nointim/mic_v1_fresnel_nointim\n"
     ]
    },
    {
     "name": "stderr",
     "output_type": "stream",
     "text": [
      "ic| self.fx: 1111.1110311937682, self.fy: 1111.1110311937682\n",
      "ic| self.intrinsics: tensor([[1.1111e+03, 0.0000e+00, 4.0000e+02],\n",
      "                             [0.0000e+00, 1.1111e+03, 4.0000e+02],\n",
      "                             [0.0000e+00, 0.0000e+00, 1.0000e+00]])\n"
     ]
    },
    {
     "name": "stdout",
     "output_type": "stream",
     "text": [
      "Original Image size: 800 x 800\n",
      "Image size: 800 x 800\n"
     ]
    },
    {
     "name": "stderr",
     "output_type": "stream",
     "text": [
      "Loading data test (200): 100%|██████████| 200/200 [00:04<00:00, 49.09it/s]\n",
      "ic| self.fx: 1111.1110311937682, self.fy: 1111.1110311937682\n",
      "ic| self.intrinsics: tensor([[1.1111e+03, 0.0000e+00, 4.0000e+02],\n",
      "                             [0.0000e+00, 1.1111e+03, 4.0000e+02],\n",
      "                             [0.0000e+00, 0.0000e+00, 1.0000e+00]])\n"
     ]
    },
    {
     "name": "stdout",
     "output_type": "stream",
     "text": [
      "../log/fresnel_nointim/hotdog_v1_fresnel_nointim\n",
      "Original Image size: 800 x 800\n",
      "Image size: 800 x 800\n"
     ]
    },
    {
     "name": "stderr",
     "output_type": "stream",
     "text": [
      "Loading data test (200): 100%|██████████| 200/200 [00:03<00:00, 57.33it/s]\n",
      "ic| self.fx: 1250.0000504168488, self.fy: 1250.0000504168488\n",
      "ic| self.intrinsics: tensor([[1.2500e+03, 0.0000e+00, 4.0000e+02],\n",
      "                             [0.0000e+00, 1.2500e+03, 4.0000e+02],\n",
      "                             [0.0000e+00, 0.0000e+00, 1.0000e+00]])\n"
     ]
    },
    {
     "name": "stdout",
     "output_type": "stream",
     "text": [
      "../log/fresnel_nointim/teapot_v1_fresnel_nointim\n",
      "Original Image size: 800 x 800\n",
      "Image size: 800 x 800\n"
     ]
    },
    {
     "name": "stderr",
     "output_type": "stream",
     "text": [
      "Loading data test (200): 100%|██████████| 200/200 [00:03<00:00, 59.18it/s]\n",
      "ic| self.fx: 1111.1110311937682, self.fy: 1111.1110311937682\n",
      "ic| self.intrinsics: tensor([[1.1111e+03, 0.0000e+00, 4.0000e+02],\n",
      "                             [0.0000e+00, 1.1111e+03, 4.0000e+02],\n",
      "                             [0.0000e+00, 0.0000e+00, 1.0000e+00]])\n"
     ]
    },
    {
     "name": "stdout",
     "output_type": "stream",
     "text": [
      "../log/fresnel_nointim/lego_v1_fresnel_nointim\n",
      "Original Image size: 800.0 x 800.0\n",
      "Image size: 800 x 800\n"
     ]
    },
    {
     "name": "stderr",
     "output_type": "stream",
     "text": [
      "Loading data test (200): 100%|██████████| 200/200 [00:04<00:00, 41.62it/s]\n",
      "ic| self.fx: 1250.0000504168488, self.fy: 1250.0000504168488\n",
      "ic| self.intrinsics: tensor([[1.2500e+03, 0.0000e+00, 4.0000e+02],\n",
      "                             [0.0000e+00, 1.2500e+03, 4.0000e+02],\n",
      "                             [0.0000e+00, 0.0000e+00, 1.0000e+00]])\n"
     ]
    },
    {
     "name": "stdout",
     "output_type": "stream",
     "text": [
      "../log/fresnel_nointim/drums_v1_fresnel_nointim\n",
      "Original Image size: 800 x 800\n",
      "Image size: 800 x 800\n"
     ]
    },
    {
     "name": "stderr",
     "output_type": "stream",
     "text": [
      "Loading data test (200): 100%|██████████| 200/200 [00:04<00:00, 49.23it/s]\n",
      "ic| self.fx: 1250.0000504168488, self.fy: 1250.0000504168488\n",
      "ic| self.intrinsics: tensor([[1.2500e+03, 0.0000e+00, 4.0000e+02],\n",
      "                             [0.0000e+00, 1.2500e+03, 4.0000e+02],\n",
      "                             [0.0000e+00, 0.0000e+00, 1.0000e+00]])\n"
     ]
    },
    {
     "name": "stdout",
     "output_type": "stream",
     "text": [
      "../log/fresnel_nointim/car_v1_fresnel_nointim\n",
      "Original Image size: 800 x 800\n",
      "Image size: 800 x 800\n"
     ]
    },
    {
     "name": "stderr",
     "output_type": "stream",
     "text": [
      "Loading data test (200): 100%|██████████| 200/200 [00:04<00:00, 49.50it/s]\n",
      "ic| self.fx: 1250.0000504168488, self.fy: 1250.0000504168488\n",
      "ic| self.intrinsics: tensor([[1.2500e+03, 0.0000e+00, 4.0000e+02],\n",
      "                             [0.0000e+00, 1.2500e+03, 4.0000e+02],\n",
      "                             [0.0000e+00, 0.0000e+00, 1.0000e+00]])\n"
     ]
    },
    {
     "name": "stdout",
     "output_type": "stream",
     "text": [
      "../log/fresnel_nointim/coffee_v1_fresnel_nointim\n",
      "Original Image size: 800 x 800\n",
      "Image size: 800 x 800\n"
     ]
    },
    {
     "name": "stderr",
     "output_type": "stream",
     "text": [
      "Loading data test (200): 100%|██████████| 200/200 [00:04<00:00, 46.47it/s]\n",
      "ic| self.fx: 1250.0000504168488, self.fy: 1250.0000504168488\n",
      "ic| self.intrinsics: tensor([[1.2500e+03, 0.0000e+00, 4.0000e+02],\n",
      "                             [0.0000e+00, 1.2500e+03, 4.0000e+02],\n",
      "                             [0.0000e+00, 0.0000e+00, 1.0000e+00]])\n"
     ]
    },
    {
     "name": "stdout",
     "output_type": "stream",
     "text": [
      "../log/fresnel_nointim/helmet_v1_fresnel_nointim\n",
      "Original Image size: 800 x 800\n",
      "Image size: 800 x 800\n"
     ]
    },
    {
     "name": "stderr",
     "output_type": "stream",
     "text": [
      "Loading data test (200): 100%|██████████| 200/200 [00:04<00:00, 48.06it/s]\n",
      "ic| self.fx: 1250.0000504168488, self.fy: 1250.0000504168488\n",
      "ic| self.intrinsics: tensor([[1.2500e+03, 0.0000e+00, 4.0000e+02],\n",
      "                             [0.0000e+00, 1.2500e+03, 4.0000e+02],\n",
      "                             [0.0000e+00, 0.0000e+00, 1.0000e+00]])\n"
     ]
    },
    {
     "name": "stdout",
     "output_type": "stream",
     "text": [
      "../log/fresnel_nobounce/car_v1_fresnel_nobounce\n",
      "Original Image size: 800 x 800\n",
      "Image size: 800 x 800\n"
     ]
    },
    {
     "name": "stderr",
     "output_type": "stream",
     "text": [
      "Loading data test (200): 100%|██████████| 200/200 [00:03<00:00, 51.25it/s]\n",
      "ic| self.fx: 1250.0000504168488, self.fy: 1250.0000504168488\n",
      "ic| self.intrinsics: tensor([[1.2500e+03, 0.0000e+00, 4.0000e+02],\n",
      "                             [0.0000e+00, 1.2500e+03, 4.0000e+02],\n",
      "                             [0.0000e+00, 0.0000e+00, 1.0000e+00]])\n"
     ]
    },
    {
     "name": "stdout",
     "output_type": "stream",
     "text": [
      "../log/fresnel_nobounce/ball_v1_fresnel_nobounce\n",
      "Original Image size: 800 x 800\n",
      "Image size: 800 x 800\n"
     ]
    },
    {
     "name": "stderr",
     "output_type": "stream",
     "text": [
      "Loading data test (200): 100%|██████████| 200/200 [00:04<00:00, 49.14it/s]\n",
      "ic| self.fx: 1111.1110311937682, self.fy: 1111.1110311937682\n",
      "ic| self.intrinsics: tensor([[1.1111e+03, 0.0000e+00, 4.0000e+02],\n",
      "                             [0.0000e+00, 1.1111e+03, 4.0000e+02],\n",
      "                             [0.0000e+00, 0.0000e+00, 1.0000e+00]])\n"
     ]
    },
    {
     "name": "stdout",
     "output_type": "stream",
     "text": [
      "../log/fresnel_nobounce/ficus_v1_fresnel_nobounce\n",
      "Original Image size: 800 x 800\n",
      "Image size: 800 x 800\n"
     ]
    },
    {
     "name": "stderr",
     "output_type": "stream",
     "text": [
      "Loading data test (200): 100%|██████████| 200/200 [00:03<00:00, 54.78it/s]\n",
      "ic| self.fx: 1111.1110311937682, self.fy: 1111.1110311937682\n",
      "ic| self.intrinsics: tensor([[1.1111e+03, 0.0000e+00, 4.0000e+02],\n",
      "                             [0.0000e+00, 1.1111e+03, 4.0000e+02],\n",
      "                             [0.0000e+00, 0.0000e+00, 1.0000e+00]])\n"
     ]
    },
    {
     "name": "stdout",
     "output_type": "stream",
     "text": [
      "../log/fresnel_nobounce/ship_v1_fresnel_nobounce\n",
      "Original Image size: 800 x 800\n",
      "Image size: 800 x 800\n"
     ]
    },
    {
     "name": "stderr",
     "output_type": "stream",
     "text": [
      "Loading data test (200): 100%|██████████| 200/200 [00:04<00:00, 47.24it/s]\n",
      "ic| self.fx: 1250.0000504168488, self.fy: 1250.0000504168488\n",
      "ic| self.intrinsics: tensor([[1.2500e+03, 0.0000e+00, 4.0000e+02],\n",
      "                             [0.0000e+00, 1.2500e+03, 4.0000e+02],\n",
      "                             [0.0000e+00, 0.0000e+00, 1.0000e+00]])\n"
     ]
    },
    {
     "name": "stdout",
     "output_type": "stream",
     "text": [
      "../log/fresnel_nobounce/toaster_v1_fresnel_nobounce\n",
      "Original Image size: 800 x 800\n",
      "Image size: 800 x 800\n"
     ]
    },
    {
     "name": "stderr",
     "output_type": "stream",
     "text": [
      "Loading data test (200): 100%|██████████| 200/200 [00:04<00:00, 40.05it/s]\n",
      "ic| self.fx: 1250.0000504168488, self.fy: 1250.0000504168488\n",
      "ic| self.intrinsics: tensor([[1.2500e+03, 0.0000e+00, 4.0000e+02],\n",
      "                             [0.0000e+00, 1.2500e+03, 4.0000e+02],\n",
      "                             [0.0000e+00, 0.0000e+00, 1.0000e+00]])\n"
     ]
    },
    {
     "name": "stdout",
     "output_type": "stream",
     "text": [
      "../log/fresnel_nobounce/coffee_v1_fresnel_nobounce\n",
      "Original Image size: 800 x 800\n",
      "Image size: 800 x 800\n"
     ]
    },
    {
     "name": "stderr",
     "output_type": "stream",
     "text": [
      "Loading data test (200): 100%|██████████| 200/200 [00:04<00:00, 45.89it/s]\n",
      "ic| self.fx: 1250.0000504168488, self.fy: 1250.0000504168488\n",
      "ic| self.intrinsics: tensor([[1.2500e+03, 0.0000e+00, 4.0000e+02],\n",
      "                             [0.0000e+00, 1.2500e+03, 4.0000e+02],\n",
      "                             [0.0000e+00, 0.0000e+00, 1.0000e+00]])\n"
     ]
    },
    {
     "name": "stdout",
     "output_type": "stream",
     "text": [
      "../log/fresnel_nobounce/materials_v1_fresnel_nobounce\n",
      "Original Image size: 800 x 800\n",
      "Image size: 800 x 800\n"
     ]
    },
    {
     "name": "stderr",
     "output_type": "stream",
     "text": [
      "Loading data test (200): 100%|██████████| 200/200 [00:04<00:00, 46.07it/s]\n",
      "ic| self.fx: 1111.1110311937682, self.fy: 1111.1110311937682\n",
      "ic| self.intrinsics: tensor([[1.1111e+03, 0.0000e+00, 4.0000e+02],\n",
      "                             [0.0000e+00, 1.1111e+03, 4.0000e+02],\n",
      "                             [0.0000e+00, 0.0000e+00, 1.0000e+00]])\n"
     ]
    },
    {
     "name": "stdout",
     "output_type": "stream",
     "text": [
      "../log/fresnel_nobounce/mic_v1_fresnel_nobounce\n",
      "Original Image size: 800 x 800\n",
      "Image size: 800 x 800\n"
     ]
    },
    {
     "name": "stderr",
     "output_type": "stream",
     "text": [
      "Loading data test (200): 100%|██████████| 200/200 [00:03<00:00, 59.61it/s]\n",
      "ic| self.fx: 1111.1110311937682, self.fy: 1111.1110311937682\n",
      "ic| self.intrinsics: tensor([[1.1111e+03, 0.0000e+00, 4.0000e+02],\n",
      "                             [0.0000e+00, 1.1111e+03, 4.0000e+02],\n",
      "                             [0.0000e+00, 0.0000e+00, 1.0000e+00]])\n"
     ]
    },
    {
     "name": "stdout",
     "output_type": "stream",
     "text": [
      "../log/fresnel_nobounce/hotdog_v1_fresnel_nobounce\n",
      "Original Image size: 800 x 800\n",
      "Image size: 800 x 800\n"
     ]
    },
    {
     "name": "stderr",
     "output_type": "stream",
     "text": [
      "Loading data test (200): 100%|██████████| 200/200 [00:03<00:00, 55.62it/s]\n",
      "ic| self.fx: 1250.0000504168488, self.fy: 1250.0000504168488\n",
      "ic| self.intrinsics: tensor([[1.2500e+03, 0.0000e+00, 4.0000e+02],\n",
      "                             [0.0000e+00, 1.2500e+03, 4.0000e+02],\n",
      "                             [0.0000e+00, 0.0000e+00, 1.0000e+00]])\n"
     ]
    },
    {
     "name": "stdout",
     "output_type": "stream",
     "text": [
      "../log/fresnel_nobounce/drums_v1_fresnel_nobounce\n",
      "Original Image size: 800 x 800\n",
      "Image size: 800 x 800\n"
     ]
    },
    {
     "name": "stderr",
     "output_type": "stream",
     "text": [
      "Loading data test (200): 100%|██████████| 200/200 [00:04<00:00, 48.17it/s]\n",
      "ic| self.fx: 1250.0000504168488, self.fy: 1250.0000504168488\n",
      "ic| self.intrinsics: tensor([[1.2500e+03, 0.0000e+00, 4.0000e+02],\n",
      "                             [0.0000e+00, 1.2500e+03, 4.0000e+02],\n",
      "                             [0.0000e+00, 0.0000e+00, 1.0000e+00]])\n"
     ]
    },
    {
     "name": "stdout",
     "output_type": "stream",
     "text": [
      "../log/fresnel_nobounce/teapot_v1_fresnel_nobounce\n",
      "Original Image size: 800 x 800\n",
      "Image size: 800 x 800\n"
     ]
    },
    {
     "name": "stderr",
     "output_type": "stream",
     "text": [
      "Loading data test (200): 100%|██████████| 200/200 [00:03<00:00, 58.89it/s]\n",
      "ic| self.fx: 1250.0000504168488, self.fy: 1250.0000504168488\n",
      "ic| self.intrinsics: tensor([[1.2500e+03, 0.0000e+00, 4.0000e+02],\n",
      "                             [0.0000e+00, 1.2500e+03, 4.0000e+02],\n",
      "                             [0.0000e+00, 0.0000e+00, 1.0000e+00]])\n"
     ]
    },
    {
     "name": "stdout",
     "output_type": "stream",
     "text": [
      "../log/fresnel_nobounce/helmet_v1_fresnel_nobounce\n",
      "Original Image size: 800 x 800\n",
      "Image size: 800 x 800\n"
     ]
    },
    {
     "name": "stderr",
     "output_type": "stream",
     "text": [
      "Loading data test (200): 100%|██████████| 200/200 [00:04<00:00, 47.64it/s]\n",
      "ic| self.fx: 1111.1110311937682, self.fy: 1111.1110311937682\n",
      "ic| self.intrinsics: tensor([[1.1111e+03, 0.0000e+00, 4.0000e+02],\n",
      "                             [0.0000e+00, 1.1111e+03, 4.0000e+02],\n",
      "                             [0.0000e+00, 0.0000e+00, 1.0000e+00]])\n"
     ]
    },
    {
     "name": "stdout",
     "output_type": "stream",
     "text": [
      "../log/fresnel_nobounce/lego_v1_fresnel_nobounce\n",
      "Original Image size: 800.0 x 800.0\n",
      "Image size: 800 x 800\n"
     ]
    },
    {
     "name": "stderr",
     "output_type": "stream",
     "text": [
      "Loading data test (200): 100%|██████████| 200/200 [00:04<00:00, 41.28it/s]\n",
      "ic| self.fx: 1111.1110311937682, self.fy: 1111.1110311937682\n",
      "ic| self.intrinsics: tensor([[1.1111e+03, 0.0000e+00, 4.0000e+02],\n",
      "                             [0.0000e+00, 1.1111e+03, 4.0000e+02],\n",
      "                             [0.0000e+00, 0.0000e+00, 1.0000e+00]])\n"
     ]
    },
    {
     "name": "stdout",
     "output_type": "stream",
     "text": [
      "../log/fresnel_nobounce/chair_v1_fresnel_nobounce\n",
      "Original Image size: 800 x 800\n",
      "Image size: 800 x 800\n"
     ]
    },
    {
     "name": "stderr",
     "output_type": "stream",
     "text": [
      "Loading data test (200): 100%|██████████| 200/200 [00:04<00:00, 45.30it/s]\n",
      "ic| self.fx: 1111.1110311937682, self.fy: 1111.1110311937682\n",
      "ic| self.intrinsics: tensor([[1.1111e+03, 0.0000e+00, 4.0000e+02],\n",
      "                             [0.0000e+00, 1.1111e+03, 4.0000e+02],\n",
      "                             [0.0000e+00, 0.0000e+00, 1.0000e+00]])\n"
     ]
    },
    {
     "name": "stdout",
     "output_type": "stream",
     "text": [
      "../log/fresnel/ficus_v1_fresnel\n",
      "Original Image size: 800 x 800\n",
      "Image size: 800 x 800\n"
     ]
    },
    {
     "name": "stderr",
     "output_type": "stream",
     "text": [
      "Loading data test (200): 100%|██████████| 200/200 [00:03<00:00, 56.08it/s]\n",
      "ic| self.fx: 1111.1110311937682, self.fy: 1111.1110311937682\n",
      "ic| self.intrinsics: tensor([[1.1111e+03, 0.0000e+00, 4.0000e+02],\n",
      "                             [0.0000e+00, 1.1111e+03, 4.0000e+02],\n",
      "                             [0.0000e+00, 0.0000e+00, 1.0000e+00]])\n"
     ]
    },
    {
     "name": "stdout",
     "output_type": "stream",
     "text": [
      "../log/fresnel/chair_v1_fresnel\n",
      "Original Image size: 800 x 800\n",
      "Image size: 800 x 800\n"
     ]
    },
    {
     "name": "stderr",
     "output_type": "stream",
     "text": [
      "Loading data test (200): 100%|██████████| 200/200 [00:07<00:00, 26.75it/s]\n",
      "ic| self.fx: 1250.0000504168488, self.fy: 1250.0000504168488\n",
      "ic| self.intrinsics: tensor([[1.2500e+03, 0.0000e+00, 4.0000e+02],\n",
      "                             [0.0000e+00, 1.2500e+03, 4.0000e+02],\n",
      "                             [0.0000e+00, 0.0000e+00, 1.0000e+00]])\n"
     ]
    },
    {
     "name": "stdout",
     "output_type": "stream",
     "text": [
      "../log/fresnel/ball_v1_fresnel\n",
      "Original Image size: 800 x 800\n",
      "Image size: 800 x 800\n"
     ]
    },
    {
     "name": "stderr",
     "output_type": "stream",
     "text": [
      "Loading data test (200): 100%|██████████| 200/200 [00:03<00:00, 50.38it/s]\n",
      "ic| self.fx: 1250.0000504168488, self.fy: 1250.0000504168488\n",
      "ic| self.intrinsics: tensor([[1.2500e+03, 0.0000e+00, 4.0000e+02],\n",
      "                             [0.0000e+00, 1.2500e+03, 4.0000e+02],\n",
      "                             [0.0000e+00, 0.0000e+00, 1.0000e+00]])\n"
     ]
    },
    {
     "name": "stdout",
     "output_type": "stream",
     "text": [
      "../log/fresnel/helmet_v1_fresnel\n",
      "Original Image size: 800 x 800\n",
      "Image size: 800 x 800\n"
     ]
    },
    {
     "name": "stderr",
     "output_type": "stream",
     "text": [
      "Loading data test (200): 100%|██████████| 200/200 [00:03<00:00, 51.84it/s]\n",
      "ic| self.fx: 1250.0000504168488, self.fy: 1250.0000504168488\n",
      "ic| self.intrinsics: tensor([[1.2500e+03, 0.0000e+00, 4.0000e+02],\n",
      "                             [0.0000e+00, 1.2500e+03, 4.0000e+02],\n",
      "                             [0.0000e+00, 0.0000e+00, 1.0000e+00]])\n"
     ]
    },
    {
     "name": "stdout",
     "output_type": "stream",
     "text": [
      "../log/fresnel/drums_v1_fresnel\n",
      "Original Image size: 800 x 800\n",
      "Image size: 800 x 800\n"
     ]
    },
    {
     "name": "stderr",
     "output_type": "stream",
     "text": [
      "Loading data test (200): 100%|██████████| 200/200 [00:04<00:00, 47.25it/s]\n",
      "ic| self.fx: 1111.1110311937682, self.fy: 1111.1110311937682\n",
      "ic| self.intrinsics: tensor([[1.1111e+03, 0.0000e+00, 4.0000e+02],\n",
      "                             [0.0000e+00, 1.1111e+03, 4.0000e+02],\n",
      "                             [0.0000e+00, 0.0000e+00, 1.0000e+00]])\n"
     ]
    },
    {
     "name": "stdout",
     "output_type": "stream",
     "text": [
      "../log/fresnel/ship_v1_fresnel\n",
      "Original Image size: 800 x 800\n",
      "Image size: 800 x 800\n"
     ]
    },
    {
     "name": "stderr",
     "output_type": "stream",
     "text": [
      "Loading data test (200): 100%|██████████| 200/200 [00:04<00:00, 46.61it/s]\n",
      "ic| self.fx: 1250.0000504168488, self.fy: 1250.0000504168488\n",
      "ic| self.intrinsics: tensor([[1.2500e+03, 0.0000e+00, 4.0000e+02],\n",
      "                             [0.0000e+00, 1.2500e+03, 4.0000e+02],\n",
      "                             [0.0000e+00, 0.0000e+00, 1.0000e+00]])\n"
     ]
    },
    {
     "name": "stdout",
     "output_type": "stream",
     "text": [
      "../log/fresnel/toaster_v1_fresnel\n",
      "Original Image size: 800 x 800\n",
      "Image size: 800 x 800\n"
     ]
    },
    {
     "name": "stderr",
     "output_type": "stream",
     "text": [
      "Loading data test (200): 100%|██████████| 200/200 [00:04<00:00, 45.91it/s]\n",
      "ic| self.fx: 1111.1110311937682, self.fy: 1111.1110311937682\n",
      "ic| self.intrinsics: tensor([[1.1111e+03, 0.0000e+00, 4.0000e+02],\n",
      "                             [0.0000e+00, 1.1111e+03, 4.0000e+02],\n",
      "                             [0.0000e+00, 0.0000e+00, 1.0000e+00]])\n"
     ]
    },
    {
     "name": "stdout",
     "output_type": "stream",
     "text": [
      "../log/fresnel/mic_v1_fresnel\n",
      "Original Image size: 800 x 800\n",
      "Image size: 800 x 800\n"
     ]
    },
    {
     "name": "stderr",
     "output_type": "stream",
     "text": [
      "Loading data test (200): 100%|██████████| 200/200 [00:03<00:00, 52.60it/s]\n",
      "ic| self.fx: 1250.0000504168488, self.fy: 1250.0000504168488\n",
      "ic| self.intrinsics: tensor([[1.2500e+03, 0.0000e+00, 4.0000e+02],\n",
      "                             [0.0000e+00, 1.2500e+03, 4.0000e+02],\n",
      "                             [0.0000e+00, 0.0000e+00, 1.0000e+00]])\n"
     ]
    },
    {
     "name": "stdout",
     "output_type": "stream",
     "text": [
      "../log/fresnel/car_v1_fresnel\n",
      "Original Image size: 800 x 800\n",
      "Image size: 800 x 800\n"
     ]
    },
    {
     "name": "stderr",
     "output_type": "stream",
     "text": [
      "Loading data test (200):  54%|█████▍    | 108/200 [00:02<00:01, 50.67it/s]"
     ]
    }
   ],
   "source": [
    "\n",
    "# log_dir = Path(\"../log\") / \"tensorf\"\n",
    "# log_dir = Path(\"../log\") / \"fixedmip128\"\n",
    "# log_dir = Path(\"../log\") / \"singlebounce_samen\"\n",
    "# exps = [\"noprednorms_nl0_conserve_pb0\", 'fixedmip128', 'tensorf', 'singlebounce_samen']\n",
    "# exps = ['interpdiffuse', 'interpdiffuse_flipnorm', 'fixedmip128', 'tensorf', 'singlebounce_samen']\n",
    "# exps = ['fixedmip']\n",
    "# exps = ['nodiffuse', 'fixedmip', 'noconv']\n",
    "# exps = ['test_exps']\n",
    "exps = ['fresnel_nointim', 'fresnel_nobounce', 'fresnel', 'lambda', 'fresnel_nonumer']\n",
    "datadir = \"/optane/nerf_datasets\"\n",
    "# datadir = \"/data\"\n",
    "for exp in exps:\n",
    "    log_dir = Path(\"../log\") / exp\n",
    "    for p in log_dir.glob(\"*\"):\n",
    "        print(p)\n",
    "        pano_path = p / \"imgs_test_all\" / \"envmaps\" / \"pano.exr\"\n",
    "        mapped_pano_path = p / \"imgs_test_all\" / \"envmaps\" / \"mapped_pano.png\"\n",
    "        old_data = get_stats(p)\n",
    "        new_data_path = p / \"imgs_test_all\" / \"stats_augnle2.yaml\"\n",
    "        config = OmegaConf.load(p / 'config.yaml')\n",
    "        dname = Path(config['dataset']['scenedir']).name\n",
    "\n",
    "        white_bg = config.dataset.white_bg if hasattr(config.dataset, 'white_bg') else True\n",
    "        dataset = dataset_dict[config.dataset.dataset_name]\n",
    "        test_dataset = dataset(os.path.join(datadir, config.dataset.scenedir), split='test',\n",
    "                            downsample=config.dataset.downsample_train, is_stack=True, white_bg=white_bg, is_testing=True)\n",
    "        norm_errs = []\n",
    "        for idx in range(len(test_dataset)):\n",
    "            pnorms = torch.as_tensor(imageio.imread(p / \"imgs_test_all\" / \"world_normal\" / f\"{idx:03d}.png\")).float()\n",
    "            pnorms = (pnorms - 128) / 127\n",
    "            # pnorms = pnorms / torch.linalg.norm(pnorms, dim=-1, keepdim=True)\n",
    "            try:\n",
    "                gt_normal = test_dataset.get_normal(idx)\n",
    "            except:\n",
    "                ic(\"HI\")\n",
    "                break\n",
    "\n",
    "            gt_normal = (gt_normal * 127 + 128).int()\n",
    "            gt_normal = (gt_normal - 128) / 127\n",
    "            gt_normal = gt_normal / ((gt_normal**2).sum(dim=-1, keepdim=True)+1e-6).sqrt()\n",
    "            pnorms = pnorms / ((pnorms**2).sum(dim=-1, keepdim=True)+1e-6).sqrt()\n",
    "\n",
    "            norm_err = torch.arccos((pnorms * gt_normal).sum(dim=-1).clip(min=1e-8, max=1-1e-8)) * 180/np.pi\n",
    "            norm_err[torch.isnan(norm_err)] = 0\n",
    "\n",
    "            # f, axs = plt.subplots(2, 2)\n",
    "            # axs[0, 0].imshow(gt_normal)\n",
    "            # axs[1, 0].imshow(norm_err)\n",
    "            # axs[0, 1].imshow((pnorms * gt_normal).sum(dim=-1).clip(min=1e-8, max=1-1e-8))\n",
    "            # axs[1, 1].imshow(norm_err)\n",
    "            # plt.show()\n",
    "            norm_err *= test_dataset.acc_maps[idx].squeeze(-1)\n",
    "            # print(norm_err.mean())\n",
    "            # break\n",
    "\n",
    "            norm_errs.append(norm_err.sum() / test_dataset.acc_maps[idx].sum())\n",
    "        # break\n",
    "        with new_data_path.open('w') as f:\n",
    "            old_data['norm_err'] = float(sum(norm_errs) / len(norm_errs)) if len(norm_errs) > 0 else 0\n",
    "            yaml.dump(old_data, f)"
   ]
  },
  {
   "cell_type": "code",
   "execution_count": null,
   "metadata": {},
   "outputs": [],
   "source": []
  },
  {
   "cell_type": "code",
   "execution_count": null,
   "metadata": {},
   "outputs": [],
   "source": []
  }
 ],
 "metadata": {
  "kernelspec": {
   "display_name": "31",
   "language": "python",
   "name": "python3"
  },
  "language_info": {
   "codemirror_mode": {
    "name": "ipython",
    "version": 3
   },
   "file_extension": ".py",
   "mimetype": "text/x-python",
   "name": "python",
   "nbconvert_exporter": "python",
   "pygments_lexer": "ipython3",
   "version": "3.10.4"
  },
  "orig_nbformat": 4,
  "vscode": {
   "interpreter": {
    "hash": "028f34ffe305a9c9d9afad2118f6894d15876b6d4b2e233b2f3e6907c2ac8580"
   }
  }
 },
 "nbformat": 4,
 "nbformat_minor": 2
}
