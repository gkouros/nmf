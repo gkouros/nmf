{
 "cells": [
  {
   "cell_type": "code",
   "execution_count": 1,
   "metadata": {},
   "outputs": [
    {
     "name": "stdout",
     "output_type": "stream",
     "text": [
      "/esat/rooster/gkouros/projects/nerf-repos/nmf\n",
      "Warp 0.10.1 initialized:\n",
      "   CUDA Toolkit: 11.5, Driver: 12.2\n",
      "   Devices:\n",
      "     \"cpu\"    | CPU\n",
      "     \"cuda:0\" | NVIDIA TITAN V (sm_70)\n",
      "   Kernel cache: /users/visics/gkouros/.cache/warp/0.10.1\n"
     ]
    }
   ],
   "source": [
    "from pathlib import Path\n",
    "import sys\n",
    "import os\n",
    "base_path = Path(os.path.abspath('')).parent\n",
    "print(base_path)\n",
    "sys.path.append(str(base_path))\n",
    "import torch\n",
    "from modules.tensor_nerf import TensorNeRF"
   ]
  },
  {
   "cell_type": "code",
   "execution_count": 2,
   "metadata": {},
   "outputs": [
    {
     "name": "stdout",
     "output_type": "stream",
     "text": [
      "../logs/smoothing/teapot_15687/imgs_test_all/envmaps\n"
     ]
    },
    {
     "name": "stderr",
     "output_type": "stream",
     "text": [
      "ic| ckpt[\"state_dict\"].keys(): odict_keys(['rf.aabb', 'rf.aabbSize', 'rf.invaabbSize', 'rf.aabbDiag', 'rf.grid_size', 'rf.units', 'rf.stepsize', 'rf.density_rf.app_plane.0', 'rf.density_rf.app_plane.1', 'rf.density_rf.app_plane.2', 'rf.density_rf.app_line.0', 'rf.density_rf.app_line.1', 'rf.density_rf.app_line.2', 'rf.app_rf.app_plane.0', 'rf.app_rf.app_plane.1', 'rf.app_rf.app_plane.2', 'rf.app_rf.app_line.0', 'rf.app_rf.app_line.1', 'rf.app_rf.app_line.2', 'rf.basis_mat.weight', 'rf.dbasis_mat.weight', 'sampler.alphaMask.aabb', 'sampler.alphaMask.grid_size', 'sampler.alphaMask.invgrid_size', 'sampler.alphaMask.alpha_volume', 'model.diffuse_module.diffuse_mlp.0.weight', 'model.diffuse_module.diffuse_mlp.0.bias', 'model.diffuse_module.tint_mlp.0.weight', 'model.diffuse_module.tint_mlp.0.bias', 'model.diffuse_module.f0_mlp.0.weight', 'model.diffuse_module.f0_mlp.0.bias', 'model.diffuse_module.roughness_mlp.0.weight', 'model.diffuse_module.roughness_mlp.0.bias', 'model.brdf.mlp.0.weight', 'model.brdf.mlp.0.bias', 'model.brdf.mlp.2.weight', 'model.brdf.mlp.2.bias', 'model.brdf.mlp.4.weight', 'model.brdf.mlp.4.bias', 'bg_module.bg_mat', 'bg_module.mipbias', 'bg_module.brightness', 'bg_module.mul', 'bg_module.sh_A'])\n",
      "ic| grid_size: [300, 300, 300]\n",
      "ic| self.N_voxel_list: [4283103, 7622116, 12358440, 18736316, 27000000]\n",
      "ic| self.use_predicted_normals: False\n",
      "    self.align_pred_norms: True\n",
      "    self.orient_world_normals: True\n"
     ]
    },
    {
     "name": "stdout",
     "output_type": "stream",
     "text": [
      "grid size tensor([300, 300, 300])\n",
      "aabb tensor([-1.1250, -1.1250, -1.1250,  1.1250,  1.1250,  1.1250], device='cuda:0')\n",
      "sampling step size:  tensor(0.0038)\n",
      "sampling number:  1036\n",
      "../logs/smoothing/toaster_15688/imgs_test_all/envmaps\n"
     ]
    },
    {
     "name": "stderr",
     "output_type": "stream",
     "text": [
      "ic| ckpt[\"state_dict\"].keys(): odict_keys(['rf.aabb', 'rf.aabbSize', 'rf.invaabbSize', 'rf.aabbDiag', 'rf.grid_size', 'rf.units', 'rf.stepsize', 'rf.density_rf.app_plane.0', 'rf.density_rf.app_plane.1', 'rf.density_rf.app_plane.2', 'rf.density_rf.app_line.0', 'rf.density_rf.app_line.1', 'rf.density_rf.app_line.2', 'rf.app_rf.app_plane.0', 'rf.app_rf.app_plane.1', 'rf.app_rf.app_plane.2', 'rf.app_rf.app_line.0', 'rf.app_rf.app_line.1', 'rf.app_rf.app_line.2', 'rf.basis_mat.weight', 'rf.dbasis_mat.weight', 'sampler.alphaMask.aabb', 'sampler.alphaMask.grid_size', 'sampler.alphaMask.invgrid_size', 'sampler.alphaMask.alpha_volume', 'model.diffuse_module.diffuse_mlp.0.weight', 'model.diffuse_module.diffuse_mlp.0.bias', 'model.diffuse_module.tint_mlp.0.weight', 'model.diffuse_module.tint_mlp.0.bias', 'model.diffuse_module.f0_mlp.0.weight', 'model.diffuse_module.f0_mlp.0.bias', 'model.diffuse_module.roughness_mlp.0.weight', 'model.diffuse_module.roughness_mlp.0.bias', 'model.brdf.mlp.0.weight', 'model.brdf.mlp.0.bias', 'model.brdf.mlp.2.weight', 'model.brdf.mlp.2.bias', 'model.brdf.mlp.4.weight', 'model.brdf.mlp.4.bias', 'bg_module.bg_mat', 'bg_module.mipbias', 'bg_module.brightness', 'bg_module.mul', 'bg_module.sh_A'])\n",
      "ic| grid_size: [300, 300, 300]\n",
      "ic| self.N_voxel_list: [4283103, 7622116, 12358440, 18736316, 27000000]\n",
      "ic| self.use_predicted_normals: False\n",
      "    self.align_pred_norms: True\n",
      "    self.orient_world_normals: True\n"
     ]
    },
    {
     "name": "stdout",
     "output_type": "stream",
     "text": [
      "grid size tensor([300, 300, 300])\n",
      "aabb tensor([-1.5000, -1.5000, -1.5000,  1.5000,  1.5000,  1.5000], device='cuda:0')\n",
      "sampling step size:  tensor(0.0050)\n",
      "sampling number:  1036\n",
      "../logs/smoothing/renault_segmented_15691/imgs_test_all/envmaps\n"
     ]
    },
    {
     "name": "stderr",
     "output_type": "stream",
     "text": [
      "ic| ckpt[\"state_dict\"].keys(): odict_keys(['rf.aabb', 'rf.aabbSize', 'rf.invaabbSize', 'rf.aabbDiag', 'rf.grid_size', 'rf.units', 'rf.stepsize', 'rf.density_rf.app_plane.0', 'rf.density_rf.app_plane.1', 'rf.density_rf.app_plane.2', 'rf.density_rf.app_line.0', 'rf.density_rf.app_line.1', 'rf.density_rf.app_line.2', 'rf.app_rf.app_plane.0', 'rf.app_rf.app_plane.1', 'rf.app_rf.app_plane.2', 'rf.app_rf.app_line.0', 'rf.app_rf.app_line.1', 'rf.app_rf.app_line.2', 'rf.basis_mat.weight', 'rf.dbasis_mat.weight', 'sampler.alphaMask.aabb', 'sampler.alphaMask.grid_size', 'sampler.alphaMask.invgrid_size', 'sampler.alphaMask.alpha_volume', 'model.diffuse_module.diffuse_mlp.0.weight', 'model.diffuse_module.diffuse_mlp.0.bias', 'model.diffuse_module.tint_mlp.0.weight', 'model.diffuse_module.tint_mlp.0.bias', 'model.diffuse_module.f0_mlp.0.weight', 'model.diffuse_module.f0_mlp.0.bias', 'model.diffuse_module.roughness_mlp.0.weight', 'model.diffuse_module.roughness_mlp.0.bias', 'model.brdf.mlp.0.weight', 'model.brdf.mlp.0.bias', 'model.brdf.mlp.2.weight', 'model.brdf.mlp.2.bias', 'model.brdf.mlp.4.weight', 'model.brdf.mlp.4.bias', 'bg_module.bg_mat', 'bg_module.mipbias', 'bg_module.brightness', 'bg_module.mul', 'bg_module.sh_A'])\n",
      "ic| grid_size: [300, 300, 300]\n",
      "ic| self.N_voxel_list: [4283103, 7622116, 12358440, 18736316, 27000000]\n",
      "ic| self.use_predicted_normals: False\n",
      "    self.align_pred_norms: True\n",
      "    self.orient_world_normals: True\n"
     ]
    },
    {
     "name": "stdout",
     "output_type": "stream",
     "text": [
      "grid size tensor([300, 300, 300])\n",
      "aabb tensor([-3., -3., -3.,  3.,  3.,  3.], device='cuda:0')\n",
      "sampling step size:  tensor(0.0100)\n",
      "sampling number:  1036\n",
      "../logs/smoothing/tesla_segmented_15692/imgs_test_all/envmaps\n"
     ]
    },
    {
     "name": "stderr",
     "output_type": "stream",
     "text": [
      "ic| ckpt[\"state_dict\"].keys(): odict_keys(['rf.aabb', 'rf.aabbSize', 'rf.invaabbSize', 'rf.aabbDiag', 'rf.grid_size', 'rf.units', 'rf.stepsize', 'rf.density_rf.app_plane.0', 'rf.density_rf.app_plane.1', 'rf.density_rf.app_plane.2', 'rf.density_rf.app_line.0', 'rf.density_rf.app_line.1', 'rf.density_rf.app_line.2', 'rf.app_rf.app_plane.0', 'rf.app_rf.app_plane.1', 'rf.app_rf.app_plane.2', 'rf.app_rf.app_line.0', 'rf.app_rf.app_line.1', 'rf.app_rf.app_line.2', 'rf.basis_mat.weight', 'rf.dbasis_mat.weight', 'sampler.alphaMask.aabb', 'sampler.alphaMask.grid_size', 'sampler.alphaMask.invgrid_size', 'sampler.alphaMask.alpha_volume', 'model.diffuse_module.diffuse_mlp.0.weight', 'model.diffuse_module.diffuse_mlp.0.bias', 'model.diffuse_module.tint_mlp.0.weight', 'model.diffuse_module.tint_mlp.0.bias', 'model.diffuse_module.f0_mlp.0.weight', 'model.diffuse_module.f0_mlp.0.bias', 'model.diffuse_module.roughness_mlp.0.weight', 'model.diffuse_module.roughness_mlp.0.bias', 'model.brdf.mlp.0.weight', 'model.brdf.mlp.0.bias', 'model.brdf.mlp.2.weight', 'model.brdf.mlp.2.bias', 'model.brdf.mlp.4.weight', 'model.brdf.mlp.4.bias', 'bg_module.bg_mat', 'bg_module.mipbias', 'bg_module.brightness', 'bg_module.mul', 'bg_module.sh_A'])\n",
      "ic| grid_size: [300, 300, 300]\n",
      "ic| self.N_voxel_list: [4283103, 7622116, 12358440, 18736316, 27000000]\n",
      "ic| self.use_predicted_normals: False\n",
      "    self.align_pred_norms: True\n",
      "    self.orient_world_normals: True\n"
     ]
    },
    {
     "name": "stdout",
     "output_type": "stream",
     "text": [
      "grid size tensor([300, 300, 300])\n",
      "aabb tensor([-3., -3., -3.,  3.,  3.,  3.], device='cuda:0')\n",
      "sampling step size:  tensor(0.0100)\n",
      "sampling number:  1036\n",
      "../logs/smoothing/ball_15694/imgs_test_all/envmaps\n"
     ]
    },
    {
     "name": "stderr",
     "output_type": "stream",
     "text": [
      "ic| ckpt[\"state_dict\"].keys(): odict_keys(['rf.aabb', 'rf.aabbSize', 'rf.invaabbSize', 'rf.aabbDiag', 'rf.grid_size', 'rf.units', 'rf.stepsize', 'rf.density_rf.app_plane.0', 'rf.density_rf.app_plane.1', 'rf.density_rf.app_plane.2', 'rf.density_rf.app_line.0', 'rf.density_rf.app_line.1', 'rf.density_rf.app_line.2', 'rf.app_rf.app_plane.0', 'rf.app_rf.app_plane.1', 'rf.app_rf.app_plane.2', 'rf.app_rf.app_line.0', 'rf.app_rf.app_line.1', 'rf.app_rf.app_line.2', 'rf.basis_mat.weight', 'rf.dbasis_mat.weight', 'sampler.alphaMask.aabb', 'sampler.alphaMask.grid_size', 'sampler.alphaMask.invgrid_size', 'sampler.alphaMask.alpha_volume', 'model.diffuse_module.diffuse_mlp.0.weight', 'model.diffuse_module.diffuse_mlp.0.bias', 'model.diffuse_module.tint_mlp.0.weight', 'model.diffuse_module.tint_mlp.0.bias', 'model.diffuse_module.f0_mlp.0.weight', 'model.diffuse_module.f0_mlp.0.bias', 'model.diffuse_module.roughness_mlp.0.weight', 'model.diffuse_module.roughness_mlp.0.bias', 'model.brdf.mlp.0.weight', 'model.brdf.mlp.0.bias', 'model.brdf.mlp.2.weight', 'model.brdf.mlp.2.bias', 'model.brdf.mlp.4.weight', 'model.brdf.mlp.4.bias', 'bg_module.bg_mat', 'bg_module.mipbias', 'bg_module.brightness', 'bg_module.mul', 'bg_module.sh_A'])\n",
      "ic| grid_size: [300, 300, 300]\n",
      "ic| self.N_voxel_list: [4283103, 7622116, 12358440, 18736316, 27000000]\n",
      "ic| self.use_predicted_normals: False\n",
      "    self.align_pred_norms: True\n",
      "    self.orient_world_normals: True\n"
     ]
    },
    {
     "name": "stdout",
     "output_type": "stream",
     "text": [
      "grid size tensor([300, 300, 300])\n",
      "aabb tensor([-1.5000, -1.5000, -1.5000,  1.5000,  1.5000,  1.5000], device='cuda:0')\n",
      "sampling step size:  tensor(0.0050)\n",
      "sampling number:  1036\n",
      "../logs/smoothing/helmet_15686/imgs_test_all/envmaps\n"
     ]
    },
    {
     "name": "stderr",
     "output_type": "stream",
     "text": [
      "ic| ckpt[\"state_dict\"].keys(): odict_keys(['rf.aabb', 'rf.aabbSize', 'rf.invaabbSize', 'rf.aabbDiag', 'rf.grid_size', 'rf.units', 'rf.stepsize', 'rf.density_rf.app_plane.0', 'rf.density_rf.app_plane.1', 'rf.density_rf.app_plane.2', 'rf.density_rf.app_line.0', 'rf.density_rf.app_line.1', 'rf.density_rf.app_line.2', 'rf.app_rf.app_plane.0', 'rf.app_rf.app_plane.1', 'rf.app_rf.app_plane.2', 'rf.app_rf.app_line.0', 'rf.app_rf.app_line.1', 'rf.app_rf.app_line.2', 'rf.basis_mat.weight', 'rf.dbasis_mat.weight', 'sampler.alphaMask.aabb', 'sampler.alphaMask.grid_size', 'sampler.alphaMask.invgrid_size', 'sampler.alphaMask.alpha_volume', 'model.diffuse_module.diffuse_mlp.0.weight', 'model.diffuse_module.diffuse_mlp.0.bias', 'model.diffuse_module.tint_mlp.0.weight', 'model.diffuse_module.tint_mlp.0.bias', 'model.diffuse_module.f0_mlp.0.weight', 'model.diffuse_module.f0_mlp.0.bias', 'model.diffuse_module.roughness_mlp.0.weight', 'model.diffuse_module.roughness_mlp.0.bias', 'model.brdf.mlp.0.weight', 'model.brdf.mlp.0.bias', 'model.brdf.mlp.2.weight', 'model.brdf.mlp.2.bias', 'model.brdf.mlp.4.weight', 'model.brdf.mlp.4.bias', 'bg_module.bg_mat', 'bg_module.mipbias', 'bg_module.brightness', 'bg_module.mul', 'bg_module.sh_A'])\n",
      "ic| grid_size: [300, 300, 300]\n",
      "ic| self.N_voxel_list: [4283103, 7622116, 12358440, 18736316, 27000000]\n",
      "ic| self.use_predicted_normals: False\n",
      "    self.align_pred_norms: True\n",
      "    self.orient_world_normals: True\n"
     ]
    },
    {
     "name": "stdout",
     "output_type": "stream",
     "text": [
      "grid size tensor([300, 300, 300])\n",
      "aabb tensor([-3., -3., -3.,  3.,  3.,  3.], device='cuda:0')\n",
      "sampling step size:  tensor(0.0100)\n",
      "sampling number:  1036\n",
      "../logs/smoothing/coffee_15685/imgs_test_all/envmaps\n"
     ]
    },
    {
     "name": "stderr",
     "output_type": "stream",
     "text": [
      "ic| ckpt[\"state_dict\"].keys(): odict_keys(['rf.aabb', 'rf.aabbSize', 'rf.invaabbSize', 'rf.aabbDiag', 'rf.grid_size', 'rf.units', 'rf.stepsize', 'rf.density_rf.app_plane.0', 'rf.density_rf.app_plane.1', 'rf.density_rf.app_plane.2', 'rf.density_rf.app_line.0', 'rf.density_rf.app_line.1', 'rf.density_rf.app_line.2', 'rf.app_rf.app_plane.0', 'rf.app_rf.app_plane.1', 'rf.app_rf.app_plane.2', 'rf.app_rf.app_line.0', 'rf.app_rf.app_line.1', 'rf.app_rf.app_line.2', 'rf.basis_mat.weight', 'rf.dbasis_mat.weight', 'sampler.alphaMask.aabb', 'sampler.alphaMask.grid_size', 'sampler.alphaMask.invgrid_size', 'sampler.alphaMask.alpha_volume', 'model.diffuse_module.diffuse_mlp.0.weight', 'model.diffuse_module.diffuse_mlp.0.bias', 'model.diffuse_module.tint_mlp.0.weight', 'model.diffuse_module.tint_mlp.0.bias', 'model.diffuse_module.f0_mlp.0.weight', 'model.diffuse_module.f0_mlp.0.bias', 'model.diffuse_module.roughness_mlp.0.weight', 'model.diffuse_module.roughness_mlp.0.bias', 'model.brdf.mlp.0.weight', 'model.brdf.mlp.0.bias', 'model.brdf.mlp.2.weight', 'model.brdf.mlp.2.bias', 'model.brdf.mlp.4.weight', 'model.brdf.mlp.4.bias', 'bg_module.bg_mat', 'bg_module.mipbias', 'bg_module.brightness', 'bg_module.mul', 'bg_module.sh_A'])\n",
      "ic| grid_size: [300, 300, 300]\n",
      "ic| self.N_voxel_list: [4283103, 7622116, 12358440, 18736316, 27000000]\n",
      "ic| self.use_predicted_normals: False\n",
      "    self.align_pred_norms: True\n",
      "    self.orient_world_normals: True\n"
     ]
    },
    {
     "name": "stdout",
     "output_type": "stream",
     "text": [
      "grid size tensor([300, 300, 300])\n",
      "aabb tensor([-1.5000, -1.5000, -1.5000,  1.5000,  1.5000,  1.5000], device='cuda:0')\n",
      "sampling step size:  tensor(0.0050)\n",
      "sampling number:  1036\n",
      "../logs/smoothing/ball_15695/imgs_test_all/envmaps\n"
     ]
    },
    {
     "name": "stderr",
     "output_type": "stream",
     "text": [
      "ic| ckpt[\"state_dict\"].keys(): odict_keys(['rf.aabb', 'rf.aabbSize', 'rf.invaabbSize', 'rf.aabbDiag', 'rf.grid_size', 'rf.units', 'rf.stepsize', 'rf.density_rf.app_plane.0', 'rf.density_rf.app_plane.1', 'rf.density_rf.app_plane.2', 'rf.density_rf.app_line.0', 'rf.density_rf.app_line.1', 'rf.density_rf.app_line.2', 'rf.app_rf.app_plane.0', 'rf.app_rf.app_plane.1', 'rf.app_rf.app_plane.2', 'rf.app_rf.app_line.0', 'rf.app_rf.app_line.1', 'rf.app_rf.app_line.2', 'rf.basis_mat.weight', 'rf.dbasis_mat.weight', 'sampler.alphaMask.aabb', 'sampler.alphaMask.grid_size', 'sampler.alphaMask.invgrid_size', 'sampler.alphaMask.alpha_volume', 'model.diffuse_module.diffuse_mlp.0.weight', 'model.diffuse_module.diffuse_mlp.0.bias', 'model.diffuse_module.tint_mlp.0.weight', 'model.diffuse_module.tint_mlp.0.bias', 'model.diffuse_module.f0_mlp.0.weight', 'model.diffuse_module.f0_mlp.0.bias', 'model.diffuse_module.roughness_mlp.0.weight', 'model.diffuse_module.roughness_mlp.0.bias', 'model.brdf.mlp.0.weight', 'model.brdf.mlp.0.bias', 'model.brdf.mlp.2.weight', 'model.brdf.mlp.2.bias', 'model.brdf.mlp.4.weight', 'model.brdf.mlp.4.bias', 'bg_module.bg_mat', 'bg_module.mipbias', 'bg_module.brightness', 'bg_module.mul', 'bg_module.sh_A'])\n",
      "ic| grid_size: [300, 300, 300]\n",
      "ic| self.N_voxel_list: [4283103, 7622116, 12358440, 18736316, 27000000]\n",
      "ic| self.use_predicted_normals: False\n",
      "    self.align_pred_norms: True\n",
      "    self.orient_world_normals: True\n"
     ]
    },
    {
     "name": "stdout",
     "output_type": "stream",
     "text": [
      "grid size tensor([300, 300, 300])\n",
      "aabb tensor([-3., -3., -3.,  3.,  3.,  3.], device='cuda:0')\n",
      "sampling step size:  tensor(0.0100)\n",
      "sampling number:  1036\n",
      "../logs/smoothing/ball_15683/imgs_test_all/envmaps\n"
     ]
    },
    {
     "name": "stderr",
     "output_type": "stream",
     "text": [
      "ic| ckpt[\"state_dict\"].keys(): odict_keys(['rf.aabb', 'rf.aabbSize', 'rf.invaabbSize', 'rf.aabbDiag', 'rf.grid_size', 'rf.units', 'rf.stepsize', 'rf.density_rf.app_plane.0', 'rf.density_rf.app_plane.1', 'rf.density_rf.app_plane.2', 'rf.density_rf.app_line.0', 'rf.density_rf.app_line.1', 'rf.density_rf.app_line.2', 'rf.app_rf.app_plane.0', 'rf.app_rf.app_plane.1', 'rf.app_rf.app_plane.2', 'rf.app_rf.app_line.0', 'rf.app_rf.app_line.1', 'rf.app_rf.app_line.2', 'rf.basis_mat.weight', 'rf.dbasis_mat.weight', 'sampler.alphaMask.aabb', 'sampler.alphaMask.grid_size', 'sampler.alphaMask.invgrid_size', 'sampler.alphaMask.alpha_volume', 'model.diffuse_module.diffuse_mlp.0.weight', 'model.diffuse_module.diffuse_mlp.0.bias', 'model.diffuse_module.tint_mlp.0.weight', 'model.diffuse_module.tint_mlp.0.bias', 'model.diffuse_module.f0_mlp.0.weight', 'model.diffuse_module.f0_mlp.0.bias', 'model.diffuse_module.roughness_mlp.0.weight', 'model.diffuse_module.roughness_mlp.0.bias', 'model.brdf.mlp.0.weight', 'model.brdf.mlp.0.bias', 'model.brdf.mlp.2.weight', 'model.brdf.mlp.2.bias', 'model.brdf.mlp.4.weight', 'model.brdf.mlp.4.bias', 'bg_module.bg_mat', 'bg_module.mipbias', 'bg_module.brightness', 'bg_module.mul', 'bg_module.sh_A'])\n",
      "ic| grid_size: [300, 300, 300]\n",
      "ic| self.N_voxel_list: [4283103, 7622116, 12358440, 18736316, 27000000]\n",
      "ic| self.use_predicted_normals: False\n",
      "    self.align_pred_norms: True\n",
      "    self.orient_world_normals: True\n"
     ]
    },
    {
     "name": "stdout",
     "output_type": "stream",
     "text": [
      "grid size tensor([300, 300, 300])\n",
      "aabb tensor([-1.5000, -1.5000, -1.5000,  1.5000,  1.5000,  1.5000], device='cuda:0')\n",
      "sampling step size:  tensor(0.0050)\n",
      "sampling number:  1036\n",
      "../logs/smoothing/car_15684/imgs_test_all/envmaps\n"
     ]
    },
    {
     "name": "stderr",
     "output_type": "stream",
     "text": [
      "ic| ckpt[\"state_dict\"].keys(): odict_keys(['rf.aabb', 'rf.aabbSize', 'rf.invaabbSize', 'rf.aabbDiag', 'rf.grid_size', 'rf.units', 'rf.stepsize', 'rf.density_rf.app_plane.0', 'rf.density_rf.app_plane.1', 'rf.density_rf.app_plane.2', 'rf.density_rf.app_line.0', 'rf.density_rf.app_line.1', 'rf.density_rf.app_line.2', 'rf.app_rf.app_plane.0', 'rf.app_rf.app_plane.1', 'rf.app_rf.app_plane.2', 'rf.app_rf.app_line.0', 'rf.app_rf.app_line.1', 'rf.app_rf.app_line.2', 'rf.basis_mat.weight', 'rf.dbasis_mat.weight', 'sampler.alphaMask.aabb', 'sampler.alphaMask.grid_size', 'sampler.alphaMask.invgrid_size', 'sampler.alphaMask.alpha_volume', 'model.diffuse_module.diffuse_mlp.0.weight', 'model.diffuse_module.diffuse_mlp.0.bias', 'model.diffuse_module.tint_mlp.0.weight', 'model.diffuse_module.tint_mlp.0.bias', 'model.diffuse_module.f0_mlp.0.weight', 'model.diffuse_module.f0_mlp.0.bias', 'model.diffuse_module.roughness_mlp.0.weight', 'model.diffuse_module.roughness_mlp.0.bias', 'model.brdf.mlp.0.weight', 'model.brdf.mlp.0.bias', 'model.brdf.mlp.2.weight', 'model.brdf.mlp.2.bias', 'model.brdf.mlp.4.weight', 'model.brdf.mlp.4.bias', 'bg_module.bg_mat', 'bg_module.mipbias', 'bg_module.brightness', 'bg_module.mul', 'bg_module.sh_A'])\n",
      "ic| grid_size: [300, 300, 300]\n",
      "ic| self.N_voxel_list: [4283103, 7622116, 12358440, 18736316, 27000000]\n",
      "ic| self.use_predicted_normals: False\n",
      "    self.align_pred_norms: True\n",
      "    self.orient_world_normals: True\n"
     ]
    },
    {
     "name": "stdout",
     "output_type": "stream",
     "text": [
      "grid size tensor([300, 300, 300])\n",
      "aabb tensor([-1.5000, -1.5000, -1.5000,  1.5000,  1.5000,  1.5000], device='cuda:0')\n",
      "sampling step size:  tensor(0.0050)\n",
      "sampling number:  1036\n",
      "../logs/smoothing/renault_15689/imgs_test_all/envmaps\n"
     ]
    },
    {
     "name": "stderr",
     "output_type": "stream",
     "text": [
      "ic| ckpt[\"state_dict\"].keys(): odict_keys(['rf.aabb', 'rf.aabbSize', 'rf.invaabbSize', 'rf.aabbDiag', 'rf.grid_size', 'rf.units', 'rf.stepsize', 'rf.density_rf.app_plane.0', 'rf.density_rf.app_plane.1', 'rf.density_rf.app_plane.2', 'rf.density_rf.app_line.0', 'rf.density_rf.app_line.1', 'rf.density_rf.app_line.2', 'rf.app_rf.app_plane.0', 'rf.app_rf.app_plane.1', 'rf.app_rf.app_plane.2', 'rf.app_rf.app_line.0', 'rf.app_rf.app_line.1', 'rf.app_rf.app_line.2', 'rf.basis_mat.weight', 'rf.dbasis_mat.weight', 'sampler.alphaMask.aabb', 'sampler.alphaMask.grid_size', 'sampler.alphaMask.invgrid_size', 'sampler.alphaMask.alpha_volume', 'model.diffuse_module.diffuse_mlp.0.weight', 'model.diffuse_module.diffuse_mlp.0.bias', 'model.diffuse_module.tint_mlp.0.weight', 'model.diffuse_module.tint_mlp.0.bias', 'model.diffuse_module.f0_mlp.0.weight', 'model.diffuse_module.f0_mlp.0.bias', 'model.diffuse_module.roughness_mlp.0.weight', 'model.diffuse_module.roughness_mlp.0.bias', 'model.brdf.mlp.0.weight', 'model.brdf.mlp.0.bias', 'model.brdf.mlp.2.weight', 'model.brdf.mlp.2.bias', 'model.brdf.mlp.4.weight', 'model.brdf.mlp.4.bias', 'bg_module.bg_mat', 'bg_module.mipbias', 'bg_module.brightness', 'bg_module.mul', 'bg_module.sh_A'])\n",
      "ic| grid_size: [300, 300, 300]\n",
      "ic| self.N_voxel_list: [4283103, 7622116, 12358440, 18736316, 27000000]\n",
      "ic| self.use_predicted_normals: False\n",
      "    self.align_pred_norms: True\n",
      "    self.orient_world_normals: True\n"
     ]
    },
    {
     "name": "stdout",
     "output_type": "stream",
     "text": [
      "grid size tensor([300, 300, 300])\n",
      "aabb tensor([-3., -3., -3.,  3.,  3.,  3.], device='cuda:0')\n",
      "sampling step size:  tensor(0.0100)\n",
      "sampling number:  1036\n",
      "../logs/smoothing/tesla_15690/imgs_test_all/envmaps\n"
     ]
    },
    {
     "name": "stderr",
     "output_type": "stream",
     "text": [
      "ic| ckpt[\"state_dict\"].keys(): odict_keys(['rf.aabb', 'rf.aabbSize', 'rf.invaabbSize', 'rf.aabbDiag', 'rf.grid_size', 'rf.units', 'rf.stepsize', 'rf.density_rf.app_plane.0', 'rf.density_rf.app_plane.1', 'rf.density_rf.app_plane.2', 'rf.density_rf.app_line.0', 'rf.density_rf.app_line.1', 'rf.density_rf.app_line.2', 'rf.app_rf.app_plane.0', 'rf.app_rf.app_plane.1', 'rf.app_rf.app_plane.2', 'rf.app_rf.app_line.0', 'rf.app_rf.app_line.1', 'rf.app_rf.app_line.2', 'rf.basis_mat.weight', 'rf.dbasis_mat.weight', 'sampler.alphaMask.aabb', 'sampler.alphaMask.grid_size', 'sampler.alphaMask.invgrid_size', 'sampler.alphaMask.alpha_volume', 'model.diffuse_module.diffuse_mlp.0.weight', 'model.diffuse_module.diffuse_mlp.0.bias', 'model.diffuse_module.tint_mlp.0.weight', 'model.diffuse_module.tint_mlp.0.bias', 'model.diffuse_module.f0_mlp.0.weight', 'model.diffuse_module.f0_mlp.0.bias', 'model.diffuse_module.roughness_mlp.0.weight', 'model.diffuse_module.roughness_mlp.0.bias', 'model.brdf.mlp.0.weight', 'model.brdf.mlp.0.bias', 'model.brdf.mlp.2.weight', 'model.brdf.mlp.2.bias', 'model.brdf.mlp.4.weight', 'model.brdf.mlp.4.bias', 'bg_module.bg_mat', 'bg_module.mipbias', 'bg_module.brightness', 'bg_module.mul', 'bg_module.sh_A'])\n",
      "ic| grid_size: [300, 300, 300]\n",
      "ic| self.N_voxel_list: [4283103, 7622116, 12358440, 18736316, 27000000]\n",
      "ic| self.use_predicted_normals: False\n",
      "    self.align_pred_norms: True\n",
      "    self.orient_world_normals: True\n"
     ]
    },
    {
     "name": "stdout",
     "output_type": "stream",
     "text": [
      "grid size tensor([300, 300, 300])\n",
      "aabb tensor([-3., -3., -3.,  3.,  3.,  3.], device='cuda:0')\n",
      "sampling step size:  tensor(0.0100)\n",
      "sampling number:  1036\n"
     ]
    }
   ],
   "source": [
    "\n",
    "log_dir = Path(\"../logs\") / \"smoothing\" # \"noprednorms_nl0_conserve_pb0\"\n",
    "# log_dir = Path(\"../log\") / \"singlebounce_samen\"\n",
    "for ckpt_path in log_dir.glob(\"*/*.th\"):\n",
    "    p = ckpt_path.parent\n",
    "    pano_path = p / \"imgs_test_all\" / \"envmaps\"\n",
    "    print(pano_path)\n",
    "    ckpt = torch.load(ckpt_path)\n",
    "    tensorf = TensorNeRF.load(ckpt, near_far=[2, 6], strict=False)\n",
    "    tensorf.bg_module.save(pano_path)"
   ]
  }
 ],
 "metadata": {
  "kernelspec": {
   "display_name": "31",
   "language": "python",
   "name": "python3"
  },
  "language_info": {
   "codemirror_mode": {
    "name": "ipython",
    "version": 3
   },
   "file_extension": ".py",
   "mimetype": "text/x-python",
   "name": "python",
   "nbconvert_exporter": "python",
   "pygments_lexer": "ipython3",
   "version": "3.10.12"
  },
  "orig_nbformat": 4,
  "vscode": {
   "interpreter": {
    "hash": "028f34ffe305a9c9d9afad2118f6894d15876b6d4b2e233b2f3e6907c2ac8580"
   }
  }
 },
 "nbformat": 4,
 "nbformat_minor": 2
}
